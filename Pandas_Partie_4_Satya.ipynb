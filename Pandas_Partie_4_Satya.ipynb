{
  "nbformat": 4,
  "nbformat_minor": 0,
  "metadata": {
    "colab": {
      "name": "Pandas - Partie 4_Satya.ipynb",
      "provenance": [],
      "collapsed_sections": []
    },
    "kernelspec": {
      "name": "python3",
      "display_name": "Python 3"
    }
  },
  "cells": [
    {
      "cell_type": "markdown",
      "metadata": {
        "id": "WM01RkUbNtb4",
        "colab_type": "text"
      },
      "source": [
        "# Mission\n",
        "\n",
        "Toujours dans le dataset : http://bit.ly/imdbratings\n",
        "- Quel est l'acteur le plus souvent présent ?\n"
      ]
    },
    {
      "cell_type": "code",
      "metadata": {
        "id": "lsqs7rXWNrRv",
        "colab_type": "code",
        "colab": {}
      },
      "source": [
        "import pandas as pd\n",
        "from collections import Counter "
      ],
      "execution_count": 0,
      "outputs": []
    },
    {
      "cell_type": "code",
      "metadata": {
        "id": "b9ELkQnfEY39",
        "colab_type": "code",
        "outputId": "2007baac-660a-4fbd-9347-71a547618d05",
        "colab": {
          "base_uri": "https://localhost:8080/",
          "height": 195
        }
      },
      "source": [
        "url = \"https://raw.githubusercontent.com/justmarkham/pandas-videos/master/data/imdb_1000.csv\"\n",
        "df= pd.read_csv(url, sep=\",\")\n",
        "df.head(5)"
      ],
      "execution_count": 0,
      "outputs": [
        {
          "output_type": "execute_result",
          "data": {
            "text/html": [
              "<div>\n",
              "<style scoped>\n",
              "    .dataframe tbody tr th:only-of-type {\n",
              "        vertical-align: middle;\n",
              "    }\n",
              "\n",
              "    .dataframe tbody tr th {\n",
              "        vertical-align: top;\n",
              "    }\n",
              "\n",
              "    .dataframe thead th {\n",
              "        text-align: right;\n",
              "    }\n",
              "</style>\n",
              "<table border=\"1\" class=\"dataframe\">\n",
              "  <thead>\n",
              "    <tr style=\"text-align: right;\">\n",
              "      <th></th>\n",
              "      <th>star_rating</th>\n",
              "      <th>title</th>\n",
              "      <th>content_rating</th>\n",
              "      <th>genre</th>\n",
              "      <th>duration</th>\n",
              "      <th>actors_list</th>\n",
              "    </tr>\n",
              "  </thead>\n",
              "  <tbody>\n",
              "    <tr>\n",
              "      <th>0</th>\n",
              "      <td>9.3</td>\n",
              "      <td>The Shawshank Redemption</td>\n",
              "      <td>R</td>\n",
              "      <td>Crime</td>\n",
              "      <td>142</td>\n",
              "      <td>[u'Tim Robbins', u'Morgan Freeman', u'Bob Gunt...</td>\n",
              "    </tr>\n",
              "    <tr>\n",
              "      <th>1</th>\n",
              "      <td>9.2</td>\n",
              "      <td>The Godfather</td>\n",
              "      <td>R</td>\n",
              "      <td>Crime</td>\n",
              "      <td>175</td>\n",
              "      <td>[u'Marlon Brando', u'Al Pacino', u'James Caan']</td>\n",
              "    </tr>\n",
              "    <tr>\n",
              "      <th>2</th>\n",
              "      <td>9.1</td>\n",
              "      <td>The Godfather: Part II</td>\n",
              "      <td>R</td>\n",
              "      <td>Crime</td>\n",
              "      <td>200</td>\n",
              "      <td>[u'Al Pacino', u'Robert De Niro', u'Robert Duv...</td>\n",
              "    </tr>\n",
              "    <tr>\n",
              "      <th>3</th>\n",
              "      <td>9.0</td>\n",
              "      <td>The Dark Knight</td>\n",
              "      <td>PG-13</td>\n",
              "      <td>Action</td>\n",
              "      <td>152</td>\n",
              "      <td>[u'Christian Bale', u'Heath Ledger', u'Aaron E...</td>\n",
              "    </tr>\n",
              "    <tr>\n",
              "      <th>4</th>\n",
              "      <td>8.9</td>\n",
              "      <td>Pulp Fiction</td>\n",
              "      <td>R</td>\n",
              "      <td>Crime</td>\n",
              "      <td>154</td>\n",
              "      <td>[u'John Travolta', u'Uma Thurman', u'Samuel L....</td>\n",
              "    </tr>\n",
              "  </tbody>\n",
              "</table>\n",
              "</div>"
            ],
            "text/plain": [
              "   star_rating  ...                                        actors_list\n",
              "0          9.3  ...  [u'Tim Robbins', u'Morgan Freeman', u'Bob Gunt...\n",
              "1          9.2  ...    [u'Marlon Brando', u'Al Pacino', u'James Caan']\n",
              "2          9.1  ...  [u'Al Pacino', u'Robert De Niro', u'Robert Duv...\n",
              "3          9.0  ...  [u'Christian Bale', u'Heath Ledger', u'Aaron E...\n",
              "4          8.9  ...  [u'John Travolta', u'Uma Thurman', u'Samuel L....\n",
              "\n",
              "[5 rows x 6 columns]"
            ]
          },
          "metadata": {
            "tags": []
          },
          "execution_count": 78
        }
      ]
    },
    {
      "cell_type": "code",
      "metadata": {
        "id": "T2-axo0nEoAn",
        "colab_type": "code",
        "outputId": "43f05b1f-9212-4da5-d7f1-919ac71711e9",
        "colab": {
          "base_uri": "https://localhost:8080/",
          "height": 202
        }
      },
      "source": [
        "\n",
        "df1 = pd.DataFrame(df.actors_list.str.split(',').tolist(), index=df.index).stack() #Spliting or flatten  actors_list column data\n",
        "df1.head(10)"
      ],
      "execution_count": 0,
      "outputs": [
        {
          "output_type": "execute_result",
          "data": {
            "text/plain": [
              "0  0       [u'Tim Robbins'\n",
              "   1     u'Morgan Freeman'\n",
              "   2        u'Bob Gunton']\n",
              "1  0     [u'Marlon Brando'\n",
              "   1          u'Al Pacino'\n",
              "   2        u'James Caan']\n",
              "2  0         [u'Al Pacino'\n",
              "   1     u'Robert De Niro'\n",
              "   2     u'Robert Duvall']\n",
              "3  0    [u'Christian Bale'\n",
              "dtype: object"
            ]
          },
          "metadata": {
            "tags": []
          },
          "execution_count": 79
        }
      ]
    },
    {
      "cell_type": "code",
      "metadata": {
        "id": "XsHRl9g6Hvv_",
        "colab_type": "code",
        "colab": {}
      },
      "source": [
        "df2 = df1.reset_index([0, 1]) #Resetting the index value"
      ],
      "execution_count": 0,
      "outputs": []
    },
    {
      "cell_type": "code",
      "metadata": {
        "id": "wTbWHKuANQaj",
        "colab_type": "code",
        "outputId": "592265a3-f184-4e3f-d8e8-8e30a4b4b8d9",
        "colab": {
          "base_uri": "https://localhost:8080/",
          "height": 343
        }
      },
      "source": [
        "df2.head(10)"
      ],
      "execution_count": 0,
      "outputs": [
        {
          "output_type": "execute_result",
          "data": {
            "text/html": [
              "<div>\n",
              "<style scoped>\n",
              "    .dataframe tbody tr th:only-of-type {\n",
              "        vertical-align: middle;\n",
              "    }\n",
              "\n",
              "    .dataframe tbody tr th {\n",
              "        vertical-align: top;\n",
              "    }\n",
              "\n",
              "    .dataframe thead th {\n",
              "        text-align: right;\n",
              "    }\n",
              "</style>\n",
              "<table border=\"1\" class=\"dataframe\">\n",
              "  <thead>\n",
              "    <tr style=\"text-align: right;\">\n",
              "      <th></th>\n",
              "      <th>original Index</th>\n",
              "      <th>Actors</th>\n",
              "    </tr>\n",
              "  </thead>\n",
              "  <tbody>\n",
              "    <tr>\n",
              "      <th>0</th>\n",
              "      <td>0</td>\n",
              "      <td>[u'Tim Robbins'</td>\n",
              "    </tr>\n",
              "    <tr>\n",
              "      <th>1</th>\n",
              "      <td>0</td>\n",
              "      <td>u'Morgan Freeman'</td>\n",
              "    </tr>\n",
              "    <tr>\n",
              "      <th>2</th>\n",
              "      <td>0</td>\n",
              "      <td>u'Bob Gunton']</td>\n",
              "    </tr>\n",
              "    <tr>\n",
              "      <th>3</th>\n",
              "      <td>1</td>\n",
              "      <td>[u'Marlon Brando'</td>\n",
              "    </tr>\n",
              "    <tr>\n",
              "      <th>4</th>\n",
              "      <td>1</td>\n",
              "      <td>u'Al Pacino'</td>\n",
              "    </tr>\n",
              "    <tr>\n",
              "      <th>5</th>\n",
              "      <td>1</td>\n",
              "      <td>u'James Caan']</td>\n",
              "    </tr>\n",
              "    <tr>\n",
              "      <th>6</th>\n",
              "      <td>2</td>\n",
              "      <td>[u'Al Pacino'</td>\n",
              "    </tr>\n",
              "    <tr>\n",
              "      <th>7</th>\n",
              "      <td>2</td>\n",
              "      <td>u'Robert De Niro'</td>\n",
              "    </tr>\n",
              "    <tr>\n",
              "      <th>8</th>\n",
              "      <td>2</td>\n",
              "      <td>u'Robert Duvall']</td>\n",
              "    </tr>\n",
              "    <tr>\n",
              "      <th>9</th>\n",
              "      <td>3</td>\n",
              "      <td>[u'Christian Bale'</td>\n",
              "    </tr>\n",
              "  </tbody>\n",
              "</table>\n",
              "</div>"
            ],
            "text/plain": [
              "   original Index              Actors\n",
              "0               0     [u'Tim Robbins'\n",
              "1               0   u'Morgan Freeman'\n",
              "2               0      u'Bob Gunton']\n",
              "3               1   [u'Marlon Brando'\n",
              "4               1        u'Al Pacino'\n",
              "5               1      u'James Caan']\n",
              "6               2       [u'Al Pacino'\n",
              "7               2   u'Robert De Niro'\n",
              "8               2   u'Robert Duvall']\n",
              "9               3  [u'Christian Bale'"
            ]
          },
          "metadata": {
            "tags": []
          },
          "execution_count": 80
        }
      ]
    },
    {
      "cell_type": "code",
      "metadata": {
        "id": "LiQ4tmm4NYMy",
        "colab_type": "code",
        "colab": {}
      },
      "source": [
        "df2.columns = ['original Index', 'new_index','Actors'] #Naming the columns"
      ],
      "execution_count": 0,
      "outputs": []
    },
    {
      "cell_type": "code",
      "metadata": {
        "id": "c8krf2BWOz1_",
        "colab_type": "code",
        "colab": {}
      },
      "source": [
        "df2 = df2.drop(columns=\"new_index\") "
      ],
      "execution_count": 0,
      "outputs": []
    },
    {
      "cell_type": "code",
      "metadata": {
        "id": "2lPXgHvVO2Fx",
        "colab_type": "code",
        "outputId": "209344d4-bbbf-4172-a966-b00576621c36",
        "colab": {
          "base_uri": "https://localhost:8080/",
          "height": 1000
        }
      },
      "source": [
        "df2['Actors'].value_counts().sort_values()"
      ],
      "execution_count": 0,
      "outputs": [
        {
          "output_type": "execute_result",
          "data": {
            "text/plain": [
              " u'Brooke Adams'            1\n",
              "[u'Holly Hunter'            1\n",
              " u'Lukas Haas']             1\n",
              " u'\\xc9dgar Ram\\xedrez'     1\n",
              " u'Julie Hagerty'           1\n",
              " u'Chris Evans'             1\n",
              " u'Jennifer Garner'         1\n",
              " u'Leonie Benesch']         1\n",
              " u'Aaron Eckhart']          1\n",
              " u'Richard Crenna']         1\n",
              "[u'Gena Rowlands'           1\n",
              "[u'Griffin Dunne'           1\n",
              " u'Roy Scheider']           1\n",
              " u'Mark Lee'                1\n",
              "[u'Omar Sharif'             1\n",
              " u'Terry Gilliam'           1\n",
              " u'Judy Davis'              1\n",
              " u'Chika Sakamoto']         1\n",
              " u'Kevin Zegers'            1\n",
              "[u'Ivana Baquero'           1\n",
              "[u'Max Schreck'             1\n",
              " u'Elissa Knight'           1\n",
              " u'Margo Harshman']         1\n",
              " u'Flavio Bucci']           1\n",
              " u'Anouk Aim\\xe9e'          1\n",
              " u'Demi Moore']             1\n",
              " u'Jennifer Garner']        1\n",
              " u'Katrina Bowden']         1\n",
              " u'Karl Hardman']           1\n",
              " u'Paul Le Mat']            1\n",
              "                           ..\n",
              "[u'Steve Carell'            5\n",
              " u'Geoffrey Rush'           5\n",
              "[u'John Wayne'              5\n",
              " u'Scarlett Johansson']     5\n",
              "[u'Woody Allen'             5\n",
              " u'Matt Damon'              6\n",
              " u'Rupert Grint']           6\n",
              "[u'Harrison Ford'           6\n",
              "[u'Russell Crowe'           6\n",
              "[u'Tom Cruise'              6\n",
              " u'Kate Winslet'            6\n",
              "[u'Kevin Costner'           6\n",
              "[u'Humphrey Bogart'         7\n",
              "[u'Daniel Radcliffe'        7\n",
              "[u'Cary Grant'              7\n",
              " u'Emma Watson'             7\n",
              "[u'Sean Connery'            7\n",
              "[u'Jake Gyllenhaal'         7\n",
              "[u'Robert Downey Jr.'       7\n",
              "[u'Denzel Washington'       8\n",
              "[u'Dustin Hoffman'          8\n",
              "[u'Brad Pitt'               9\n",
              "[u'Christian Bale'          9\n",
              "[u'James Stewart'           9\n",
              "[u'Leonardo DiCaprio'       9\n",
              "[u'Johnny Depp'            10\n",
              "[u'Al Pacino'              10\n",
              "[u'Clint Eastwood'         11\n",
              "[u'Tom Hanks'              12\n",
              "[u'Robert De Niro'         13\n",
              "Name: Actors, Length: 2185, dtype: int64"
            ]
          },
          "metadata": {
            "tags": []
          },
          "execution_count": 72
        }
      ]
    },
    {
      "cell_type": "code",
      "metadata": {
        "id": "0ESZaiuYPtLr",
        "colab_type": "code",
        "outputId": "82f511a2-c41d-4d87-b39d-8b462d65fe02",
        "colab": {
          "base_uri": "https://localhost:8080/",
          "height": 50
        }
      },
      "source": [
        "df2['Actors'].mode() # l'acteur le plus souvent présent"
      ],
      "execution_count": 0,
      "outputs": [
        {
          "output_type": "execute_result",
          "data": {
            "text/plain": [
              "0    [u'Robert De Niro'\n",
              "dtype: object"
            ]
          },
          "metadata": {
            "tags": []
          },
          "execution_count": 69
        }
      ]
    },
    {
      "cell_type": "code",
      "metadata": {
        "id": "9RTj40UZVtUX",
        "colab_type": "code",
        "outputId": "f696838e-e493-4cda-aab2-94b91bcf09eb",
        "colab": {
          "base_uri": "https://localhost:8080/",
          "height": 385
        }
      },
      "source": [
        "df2['Actors'].value_counts()[:10].plot(kind='bar')"
      ],
      "execution_count": 0,
      "outputs": [
        {
          "output_type": "execute_result",
          "data": {
            "text/plain": [
              "<matplotlib.axes._subplots.AxesSubplot at 0x7fc2e1db0240>"
            ]
          },
          "metadata": {
            "tags": []
          },
          "execution_count": 75
        },
        {
          "output_type": "display_data",
          "data": {
            "image/png": "[encoded data removed]",
            "text/plain": [
              "<Figure size 432x288 with 1 Axes>"
            ]
          },
          "metadata": {
            "tags": []
          }
        }
      ]
    }
  ]
}